{
 "cells": [
  {
   "cell_type": "code",
   "execution_count": 22,
   "metadata": {},
   "outputs": [],
   "source": [
    "import numpy as np\n",
    "import pandas as pd\n",
    "from sklearn.metrics import confusion_matrix\n",
    "from sklearn.cross_validation import train_test_split\n",
    "from sklearn.tree import DecisionTreeClassifier,export_graphviz\n",
    "from sklearn.metrics import accuracy_score\n",
    "from sklearn.metrics import classification_report\n",
    "from sklearn import tree\n",
    "from IPython.display import SVG\n",
    "from IPython.display import display\n",
    "from subprocess import call\n",
    "import pydotplus\n",
    "from sklearn.externals.six import StringIO\n",
    "import matplotlib.pyplot as plt"
   ]
  },
  {
   "cell_type": "code",
   "execution_count": 3,
   "metadata": {},
   "outputs": [],
   "source": [
    "# read data\n",
    "Data2 = pd.read_csv('/Users/pranavraj/Desktop/Univ of Cin/IDA/Data/Data2.csv')"
   ]
  },
  {
   "cell_type": "code",
   "execution_count": 4,
   "metadata": {},
   "outputs": [],
   "source": [
    "#rename the target variables to values in integer for better classification\n",
    "Data2.head()\n",
    "Data2['class']=Data2['class'].map({'Abnormal':0,'Normal':1})"
   ]
  },
  {
   "cell_type": "code",
   "execution_count": 5,
   "metadata": {},
   "outputs": [],
   "source": [
    "#split data into X and y, where X contains all the features and y has only the target variable\n",
    "X = Data2.iloc[:,0:6]\n",
    "y = Data2.iloc[:,6]"
   ]
  },
  {
   "cell_type": "code",
   "execution_count": 6,
   "metadata": {
    "scrolled": true
   },
   "outputs": [
    {
     "data": {
      "text/html": [
       "<div>\n",
       "<style scoped>\n",
       "    .dataframe tbody tr th:only-of-type {\n",
       "        vertical-align: middle;\n",
       "    }\n",
       "\n",
       "    .dataframe tbody tr th {\n",
       "        vertical-align: top;\n",
       "    }\n",
       "\n",
       "    .dataframe thead th {\n",
       "        text-align: right;\n",
       "    }\n",
       "</style>\n",
       "<table border=\"1\" class=\"dataframe\">\n",
       "  <thead>\n",
       "    <tr style=\"text-align: right;\">\n",
       "      <th></th>\n",
       "      <th>pelvic_incidence</th>\n",
       "      <th>pelvic_tilt numeric</th>\n",
       "      <th>lumbar_lordosis_angle</th>\n",
       "      <th>sacral_slope</th>\n",
       "      <th>pelvic_radius</th>\n",
       "      <th>degree_spondylolisthesis</th>\n",
       "      <th>class</th>\n",
       "    </tr>\n",
       "  </thead>\n",
       "  <tbody>\n",
       "    <tr>\n",
       "      <th>count</th>\n",
       "      <td>310.000000</td>\n",
       "      <td>310.000000</td>\n",
       "      <td>310.000000</td>\n",
       "      <td>310.000000</td>\n",
       "      <td>310.000000</td>\n",
       "      <td>310.000000</td>\n",
       "      <td>310.000000</td>\n",
       "    </tr>\n",
       "    <tr>\n",
       "      <th>mean</th>\n",
       "      <td>60.496653</td>\n",
       "      <td>17.542822</td>\n",
       "      <td>51.930930</td>\n",
       "      <td>42.953831</td>\n",
       "      <td>117.920655</td>\n",
       "      <td>26.296694</td>\n",
       "      <td>0.322581</td>\n",
       "    </tr>\n",
       "    <tr>\n",
       "      <th>std</th>\n",
       "      <td>17.236520</td>\n",
       "      <td>10.008330</td>\n",
       "      <td>18.554064</td>\n",
       "      <td>13.423102</td>\n",
       "      <td>13.317377</td>\n",
       "      <td>37.559027</td>\n",
       "      <td>0.468220</td>\n",
       "    </tr>\n",
       "    <tr>\n",
       "      <th>min</th>\n",
       "      <td>26.147921</td>\n",
       "      <td>-6.554948</td>\n",
       "      <td>14.000000</td>\n",
       "      <td>13.366931</td>\n",
       "      <td>70.082575</td>\n",
       "      <td>-11.058179</td>\n",
       "      <td>0.000000</td>\n",
       "    </tr>\n",
       "    <tr>\n",
       "      <th>25%</th>\n",
       "      <td>46.430294</td>\n",
       "      <td>10.667069</td>\n",
       "      <td>37.000000</td>\n",
       "      <td>33.347122</td>\n",
       "      <td>110.709196</td>\n",
       "      <td>1.603727</td>\n",
       "      <td>0.000000</td>\n",
       "    </tr>\n",
       "    <tr>\n",
       "      <th>50%</th>\n",
       "      <td>58.691038</td>\n",
       "      <td>16.357689</td>\n",
       "      <td>49.562398</td>\n",
       "      <td>42.404912</td>\n",
       "      <td>118.268178</td>\n",
       "      <td>11.767934</td>\n",
       "      <td>0.000000</td>\n",
       "    </tr>\n",
       "    <tr>\n",
       "      <th>75%</th>\n",
       "      <td>72.877696</td>\n",
       "      <td>22.120395</td>\n",
       "      <td>63.000000</td>\n",
       "      <td>52.695888</td>\n",
       "      <td>125.467674</td>\n",
       "      <td>41.287352</td>\n",
       "      <td>1.000000</td>\n",
       "    </tr>\n",
       "    <tr>\n",
       "      <th>max</th>\n",
       "      <td>129.834041</td>\n",
       "      <td>49.431864</td>\n",
       "      <td>125.742385</td>\n",
       "      <td>121.429566</td>\n",
       "      <td>163.071041</td>\n",
       "      <td>418.543082</td>\n",
       "      <td>1.000000</td>\n",
       "    </tr>\n",
       "  </tbody>\n",
       "</table>\n",
       "</div>"
      ],
      "text/plain": [
       "       pelvic_incidence  pelvic_tilt numeric  lumbar_lordosis_angle  \\\n",
       "count        310.000000           310.000000             310.000000   \n",
       "mean          60.496653            17.542822              51.930930   \n",
       "std           17.236520            10.008330              18.554064   \n",
       "min           26.147921            -6.554948              14.000000   \n",
       "25%           46.430294            10.667069              37.000000   \n",
       "50%           58.691038            16.357689              49.562398   \n",
       "75%           72.877696            22.120395              63.000000   \n",
       "max          129.834041            49.431864             125.742385   \n",
       "\n",
       "       sacral_slope  pelvic_radius  degree_spondylolisthesis       class  \n",
       "count    310.000000     310.000000                310.000000  310.000000  \n",
       "mean      42.953831     117.920655                 26.296694    0.322581  \n",
       "std       13.423102      13.317377                 37.559027    0.468220  \n",
       "min       13.366931      70.082575                -11.058179    0.000000  \n",
       "25%       33.347122     110.709196                  1.603727    0.000000  \n",
       "50%       42.404912     118.268178                 11.767934    0.000000  \n",
       "75%       52.695888     125.467674                 41.287352    1.000000  \n",
       "max      121.429566     163.071041                418.543082    1.000000  "
      ]
     },
     "execution_count": 6,
     "metadata": {},
     "output_type": "execute_result"
    }
   ],
   "source": [
    "#Show summary statistics of the dataset\n",
    "Data2.describe()"
   ]
  },
  {
   "cell_type": "code",
   "execution_count": 7,
   "metadata": {},
   "outputs": [],
   "source": [
    "#Split the Dataset such that 210 records are assigned to the training data and 100 records to test data\n",
    "X_train,X_test,y_train,y_test = train_test_split(X,y,test_size = 0.3226, random_state = 100)"
   ]
  },
  {
   "cell_type": "code",
   "execution_count": 8,
   "metadata": {},
   "outputs": [],
   "source": [
    "#Create 5 decision trees, each with a different value for the minimum samples required to be in the leaf node. \n",
    "#clf = DecisionTreeClassifier(min_samples_leaf=3)\n",
    "#clf1 = DecisionTreeClassifier(min_samples_leaf=8)\n",
    "clf2 = DecisionTreeClassifier(min_samples_leaf=12)\n",
    "#clf3 = DecisionTreeClassifier(min_samples_leaf=30)\n",
    "#clf4 = DecisionTreeClassifier(min_samples_leaf=50)"
   ]
  },
  {
   "cell_type": "code",
   "execution_count": 9,
   "metadata": {},
   "outputs": [],
   "source": [
    "#Train each individual classifier on the training data\n",
    "#clf = clf.fit(X_train,y_train)\n",
    "#clf1 = clf1.fit(X_train,y_train)\n",
    "clf2 = clf2.fit(X_train,y_train)\n",
    "#clf3 = clf3.fit(X_train,y_train)\n",
    "#clf4 = clf4.fit(X_train,y_train)"
   ]
  },
  {
   "cell_type": "code",
   "execution_count": 10,
   "metadata": {},
   "outputs": [],
   "source": [
    "#Get the predicted target variable for each individual classifier which has been created. \n",
    "#pred = clf.predict(X_test)\n",
    "#pred1 = clf1.predict(X_test)\n",
    "pred2 = clf2.predict(X_test)\n",
    "#pred3 = clf3.predict(X_test)\n",
    "#pred4 = clf4.predict(X_test)"
   ]
  },
  {
   "cell_type": "code",
   "execution_count": 11,
   "metadata": {},
   "outputs": [
    {
     "name": "stdout",
     "output_type": "stream",
     "text": [
      "             precision    recall  f1-score   support\n",
      "\n",
      "          0       0.81      0.88      0.84        65\n",
      "          1       0.74      0.64      0.69        36\n",
      "\n",
      "avg / total       0.79      0.79      0.79       101\n",
      "\n",
      "Accuracy is 0.792079\n"
     ]
    }
   ],
   "source": [
    "#find the various performance metrics - accuracy, precision, recall, f1-score, support of the classifier\n",
    "from sklearn.metrics import classification_report, accuracy_score\n",
    "c_re1 = classification_report(y_test,pred2)\n",
    "print(c_re1)\n",
    "accuracy = accuracy_score(y_test,pred2)\n",
    "print(\"Accuracy is %f\" % (accuracy))"
   ]
  },
  {
   "cell_type": "code",
   "execution_count": 43,
   "metadata": {},
   "outputs": [
    {
     "name": "stdout",
     "output_type": "stream",
     "text": [
      "Confusion Matrix: \n",
      " [[57  8]\n",
      " [13 23]]\n"
     ]
    }
   ],
   "source": [
    "#Generate the confusion matrix for Actual vs Predicted ()\n",
    "confusionMatrix = confusion_matrix(y_test, pred2)\n",
    "print(\"Confusion Matrix: \\n\", confusionMatrix)"
   ]
  },
  {
   "cell_type": "code",
   "execution_count": 44,
   "metadata": {},
   "outputs": [
    {
     "data": {
      "image/png": "[encoded data removed]",
      "text/plain": [
       "<Figure size 432x288 with 2 Axes>"
      ]
     },
     "metadata": {},
     "output_type": "display_data"
    }
   ],
   "source": [
    "#Visualise the confusion matrix using seaborn's heatmap\n",
    "ax = sns.heatmap(confusionMatrix, annot=True, linewidths=.5, xticklabels=True, yticklabels=True,cmap='RdYlGn');\n",
    "ax.xaxis.set_ticklabels(['Normal', 'Abnormal'], fontsize=12); ax.yaxis.set_ticklabels(['Normal', 'Abnormal'], fontsize=12);\n",
    "ax.set_title('Confusion Matrix', fontsize=20);\n",
    "ax.set_ylabel('Predicted Labels', fontsize=14);\n",
    "ax.set_xlabel('True Labels', fontsize=14); "
   ]
  },
  {
   "cell_type": "code",
   "execution_count": 12,
   "metadata": {},
   "outputs": [],
   "source": [
    "#Partition each of the feature columns into four sets of equal width of values\n",
    "Data2['pelvic_incidence'],bins = pd.qcut(Data2['pelvic_incidence'],q=4,labels=False,retbins=True)\n",
    "Data2['sacral_slope'],bins3 = pd.qcut(Data2['sacral_slope'],q=4,labels=False,retbins=True)\n",
    "Data2['pelvic_radius'],bins4 = pd.qcut(Data2['pelvic_radius'],q=4,labels=False,retbins=True)\n",
    "Data2['degree_spondylolisthesis'],bins5 = pd.qcut(Data2['degree_spondylolisthesis'],q=4,labels=False,retbins=True)\n",
    "Data2['lumbar_lordosis_angle'],bins2 = pd.qcut(Data2['lumbar_lordosis_angle'],q=4,labels=False,retbins=True)\n",
    "Data2['pelvic_tilt numeric'],bins1 = pd.qcut(Data2['pelvic_tilt numeric'],q=4,labels=False,retbins=True)"
   ]
  },
  {
   "cell_type": "code",
   "execution_count": 13,
   "metadata": {},
   "outputs": [
    {
     "data": {
      "text/html": [
       "<div>\n",
       "<style scoped>\n",
       "    .dataframe tbody tr th:only-of-type {\n",
       "        vertical-align: middle;\n",
       "    }\n",
       "\n",
       "    .dataframe tbody tr th {\n",
       "        vertical-align: top;\n",
       "    }\n",
       "\n",
       "    .dataframe thead th {\n",
       "        text-align: right;\n",
       "    }\n",
       "</style>\n",
       "<table border=\"1\" class=\"dataframe\">\n",
       "  <thead>\n",
       "    <tr style=\"text-align: right;\">\n",
       "      <th></th>\n",
       "      <th>pelvic_incidence</th>\n",
       "      <th>pelvic_tilt numeric</th>\n",
       "      <th>lumbar_lordosis_angle</th>\n",
       "      <th>sacral_slope</th>\n",
       "      <th>pelvic_radius</th>\n",
       "      <th>degree_spondylolisthesis</th>\n",
       "      <th>class</th>\n",
       "    </tr>\n",
       "  </thead>\n",
       "  <tbody>\n",
       "    <tr>\n",
       "      <th>0</th>\n",
       "      <td>2</td>\n",
       "      <td>3</td>\n",
       "      <td>1</td>\n",
       "      <td>1</td>\n",
       "      <td>0</td>\n",
       "      <td>0</td>\n",
       "      <td>0</td>\n",
       "    </tr>\n",
       "    <tr>\n",
       "      <th>1</th>\n",
       "      <td>0</td>\n",
       "      <td>0</td>\n",
       "      <td>0</td>\n",
       "      <td>0</td>\n",
       "      <td>1</td>\n",
       "      <td>1</td>\n",
       "      <td>0</td>\n",
       "    </tr>\n",
       "    <tr>\n",
       "      <th>2</th>\n",
       "      <td>2</td>\n",
       "      <td>3</td>\n",
       "      <td>2</td>\n",
       "      <td>2</td>\n",
       "      <td>0</td>\n",
       "      <td>0</td>\n",
       "      <td>0</td>\n",
       "    </tr>\n",
       "    <tr>\n",
       "      <th>3</th>\n",
       "      <td>2</td>\n",
       "      <td>3</td>\n",
       "      <td>1</td>\n",
       "      <td>2</td>\n",
       "      <td>0</td>\n",
       "      <td>1</td>\n",
       "      <td>0</td>\n",
       "    </tr>\n",
       "    <tr>\n",
       "      <th>4</th>\n",
       "      <td>1</td>\n",
       "      <td>0</td>\n",
       "      <td>0</td>\n",
       "      <td>1</td>\n",
       "      <td>0</td>\n",
       "      <td>1</td>\n",
       "      <td>0</td>\n",
       "    </tr>\n",
       "  </tbody>\n",
       "</table>\n",
       "</div>"
      ],
      "text/plain": [
       "   pelvic_incidence  pelvic_tilt numeric  lumbar_lordosis_angle  sacral_slope  \\\n",
       "0                 2                    3                      1             1   \n",
       "1                 0                    0                      0             0   \n",
       "2                 2                    3                      2             2   \n",
       "3                 2                    3                      1             2   \n",
       "4                 1                    0                      0             1   \n",
       "\n",
       "   pelvic_radius  degree_spondylolisthesis  class  \n",
       "0              0                         0      0  \n",
       "1              1                         1      0  \n",
       "2              0                         0      0  \n",
       "3              0                         1      0  \n",
       "4              0                         1      0  "
      ]
     },
     "execution_count": 13,
     "metadata": {},
     "output_type": "execute_result"
    }
   ],
   "source": [
    "#see dataset after feature columns have been partitioned\n",
    "Data2.head()"
   ]
  },
  {
   "cell_type": "code",
   "execution_count": 14,
   "metadata": {},
   "outputs": [],
   "source": [
    "#split data into X and y, where X contains all the features and y has only the target variable\n",
    "X = Data2.iloc[:,0:6]\n",
    "y = Data2.iloc[:,6]"
   ]
  },
  {
   "cell_type": "code",
   "execution_count": 15,
   "metadata": {},
   "outputs": [],
   "source": [
    "#Split the Dataset such that 210 records are assigned to the training data and 100 records to test data\n",
    "X_train,X_test,y_train,y_test = train_test_split(X,y,test_size = 0.3226, random_state = 100)"
   ]
  },
  {
   "cell_type": "code",
   "execution_count": 16,
   "metadata": {},
   "outputs": [],
   "source": [
    "#Create 5 decision trees, each with a different value for the minimum samples required to be in the leaf node. \n",
    "#clf = DecisionTreeClassifier(min_samples_leaf=3)\n",
    "clf1 = DecisionTreeClassifier(min_samples_leaf=8)\n",
    "#clf2 = DecisionTreeClassifier(min_samples_leaf=12)\n",
    "#clf3 = DecisionTreeClassifier(min_samples_leaf=30)\n",
    "#clf4 = DecisionTreeClassifier(min_samples_leaf=50)"
   ]
  },
  {
   "cell_type": "code",
   "execution_count": 17,
   "metadata": {},
   "outputs": [],
   "source": [
    "#Train each individual classifier on the training data\n",
    "#clf = clf.fit(X_train,y_train)\n",
    "clf1 = clf1.fit(X_train,y_train)\n",
    "#clf2 = clf2.fit(X_train,y_train)\n",
    "#clf3 = clf3.fit(X_train,y_train)\n",
    "#clf4 = clf4.fit(X_train,y_train)"
   ]
  },
  {
   "cell_type": "code",
   "execution_count": 18,
   "metadata": {},
   "outputs": [],
   "source": [
    "#Get the predicted target variable for each individual classifier which has been created. \n",
    "#pr = clf.predict(X_test)\n",
    "pr1 = clf1.predict(X_test)\n",
    "#pr2 = clf2.predict(X_test)\n",
    "#pr3 = clf3.predict(X_test)\n",
    "#pr4 = clf4.predict(X_test)"
   ]
  },
  {
   "cell_type": "code",
   "execution_count": 19,
   "metadata": {},
   "outputs": [
    {
     "name": "stdout",
     "output_type": "stream",
     "text": [
      "             precision    recall  f1-score   support\n",
      "\n",
      "          0       0.78      0.94      0.85        65\n",
      "          1       0.83      0.53      0.64        36\n",
      "\n",
      "avg / total       0.80      0.79      0.78       101\n",
      "\n",
      "Accuracy is 0.792079\n"
     ]
    }
   ],
   "source": [
    "#find the various performance metrics - accuracy, precision, recall, f1-score, support of the classifier (after binning of data)\n",
    "c_re1 = classification_report(y_test,pr1)\n",
    "print(c_re1)\n",
    "accuracy = accuracy_score(y_test,pr1)\n",
    "print(\"Accuracy is %f\" % (accuracy))"
   ]
  },
  {
   "cell_type": "code",
   "execution_count": 24,
   "metadata": {},
   "outputs": [
    {
     "name": "stdout",
     "output_type": "stream",
     "text": [
      "Confusion Matrix: \n",
      " [[61  4]\n",
      " [17 19]]\n"
     ]
    }
   ],
   "source": [
    "#Generate the confusion matrix for Actual vs Predicted ()\n",
    "confusionMatrix = confusion_matrix(y_test, pr1)\n",
    "print(\"Confusion Matrix: \\n\", confusionMatrix)"
   ]
  },
  {
   "cell_type": "code",
   "execution_count": 42,
   "metadata": {},
   "outputs": [
    {
     "data": {
      "image/png": "[encoded data removed]",
      "text/plain": [
       "<Figure size 432x288 with 2 Axes>"
      ]
     },
     "metadata": {},
     "output_type": "display_data"
    }
   ],
   "source": [
    "#Visualise the confusion matrix using seaborn's heatmap\n",
    "ax = sns.heatmap(confusionMatrix, annot=True, linewidths=.5, xticklabels=True, yticklabels=True,cmap='RdYlGn');\n",
    "ax.xaxis.set_ticklabels(['Normal', 'Abnormal'], fontsize=12); ax.yaxis.set_ticklabels(['Normal', 'Abnormal'], fontsize=12);\n",
    "ax.set_title('Confusion Matrix', fontsize=20);\n",
    "ax.set_ylabel('Predicted Labels', fontsize=14);\n",
    "ax.set_xlabel('True Labels', fontsize=14); "
   ]
  }
 ],
 "metadata": {
  "kernelspec": {
   "display_name": "Python [conda env:anaconda3]",
   "language": "python",
   "name": "conda-env-anaconda3-py"
  },
  "language_info": {
   "codemirror_mode": {
    "name": "ipython",
    "version": 3
   },
   "file_extension": ".py",
   "mimetype": "text/x-python",
   "name": "python",
   "nbconvert_exporter": "python",
   "pygments_lexer": "ipython3",
   "version": "3.6.5"
  }
 },
 "nbformat": 4,
 "nbformat_minor": 2
}
